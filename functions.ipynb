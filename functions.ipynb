{
  "nbformat": 4,
  "nbformat_minor": 0,
  "metadata": {
    "colab": {
      "provenance": []
    },
    "kernelspec": {
      "name": "python3",
      "display_name": "Python 3"
    },
    "language_info": {
      "name": "python"
    }
  },
  "cells": [
    {
      "cell_type": "markdown",
      "source": [
        "# Calculating Average of Numbers Using Functions\n",
        "\n"
      ],
      "metadata": {
        "id": "WViF7xAQHWqQ"
      }
    },
    {
      "cell_type": "code",
      "source": [
        "def Avg(num) :\n",
        "  sum = 0\n",
        "  for i in num:\n",
        "    sum += i\n",
        "  return sum/len(num)\n",
        "\n",
        "# Example usage\n",
        "numbers = [10, 20, 30, 40, 50]\n",
        "average = Avg(numbers)\n",
        "print(f\"The average of {numbers} is: {average}\")"
      ],
      "metadata": {
        "colab": {
          "base_uri": "https://localhost:8080/"
        },
        "id": "nHbwKr_PHaTN",
        "outputId": "2cc04e0d-ebef-4102-bdfb-a045a54a74c8"
      },
      "execution_count": 5,
      "outputs": [
        {
          "output_type": "stream",
          "name": "stdout",
          "text": [
            "The average of [10, 20, 30, 40, 50] is: 30.0\n"
          ]
        }
      ]
    },
    {
      "cell_type": "markdown",
      "source": [
        "# Finding the Longest Word in a List"
      ],
      "metadata": {
        "id": "wC6OmqdxILlS"
      }
    },
    {
      "cell_type": "code",
      "source": [
        "def find_longest_word(words):\n",
        "    longest_word = \"\"\n",
        "    for word in words:\n",
        "        if len(word) > len(longest_word):\n",
        "            longest_word = word\n",
        "    return longest_word\n",
        "\n",
        "# Example usage\n",
        "words = [\"apple\", \"banana\", \"cherry\", \"date\"]\n",
        "longest_word = find_longest_word(words)\n",
        "print(f\"The longest word in the list is: {longest_word}\")"
      ],
      "metadata": {
        "colab": {
          "base_uri": "https://localhost:8080/"
        },
        "id": "ybTbuSChH-2n",
        "outputId": "b45fd96e-de59-4a89-e9ef-84a5c0790bd0"
      },
      "execution_count": 6,
      "outputs": [
        {
          "output_type": "stream",
          "name": "stdout",
          "text": [
            "The longest word in the list is: banana\n"
          ]
        }
      ]
    },
    {
      "cell_type": "markdown",
      "source": [
        "# Checking if a Number is Prime"
      ],
      "metadata": {
        "id": "BsK8di-PIf3T"
      }
    },
    {
      "cell_type": "code",
      "source": [
        "def is_prime(number):\n",
        "    if number <= 1:\n",
        "        return False\n",
        "    for i in range(2, int(number ** 0.5) + 1):\n",
        "        if number % i == 0:\n",
        "            return False\n",
        "    return True\n",
        "\n",
        "# Example usage\n",
        "num = 29\n",
        "if is_prime(num):\n",
        "    print(f\"{num} is a prime number.\")\n",
        "else:\n",
        "    print(f\"{num} is not a prime number.\")\n"
      ],
      "metadata": {
        "colab": {
          "base_uri": "https://localhost:8080/"
        },
        "id": "DF28Y-l3Iass",
        "outputId": "142120a1-891b-4b74-bb46-40bcf020387b"
      },
      "execution_count": 7,
      "outputs": [
        {
          "output_type": "stream",
          "name": "stdout",
          "text": [
            "29 is a prime number.\n"
          ]
        }
      ]
    },
    {
      "cell_type": "markdown",
      "source": [
        "# Converting Temperature Units"
      ],
      "metadata": {
        "id": "jtOHxU_7JSUi"
      }
    },
    {
      "cell_type": "code",
      "source": [
        "def convert_temperature(value, current_unit, target_unit):\n",
        "\n",
        "    current_unit = current_unit.upper()\n",
        "    target_unit = target_unit.upper()\n",
        "\n",
        "    if current_unit == target_unit:\n",
        "        return value\n",
        "\n",
        "    # Convert to Celsius as an intermediate step\n",
        "    if current_unit == 'F':\n",
        "        celsius = (value - 32) * 5 / 9\n",
        "    elif current_unit == 'K':\n",
        "        celsius = value - 273.15\n",
        "    elif current_unit == 'C':\n",
        "        celsius = value\n",
        "    else:\n",
        "        print(\"Invalid current unit. Choose 'C', 'F', or 'K'.\")\n",
        "\n",
        "    # Convert from Celsius to target unit\n",
        "    if target_unit == 'F':\n",
        "        return celsius * 9 / 5 + 32\n",
        "    elif target_unit == 'K':\n",
        "        return celsius + 273.15\n",
        "    elif target_unit == 'C':\n",
        "        return celsius\n",
        "    else:\n",
        "        print(\"Invalid target unit. Choose 'C', 'F', or 'K'.\")\n",
        "\n",
        "# Example usage\n",
        "value = 100\n",
        "current_unit = 'C'\n",
        "target_unit = 'F'\n",
        "\n",
        "converted_value = convert_temperature(value, current_unit, target_unit)\n",
        "print(f\"{value}°{current_unit} is equal to {converted_value:.2f}°{target_unit}\")\n"
      ],
      "metadata": {
        "colab": {
          "base_uri": "https://localhost:8080/"
        },
        "id": "06omw6ipJLb-",
        "outputId": "4bef6c37-c87f-48fa-8341-03f3b6bb0359"
      },
      "execution_count": 14,
      "outputs": [
        {
          "output_type": "stream",
          "name": "stdout",
          "text": [
            "100°C is equal to 212.00°F\n"
          ]
        }
      ]
    },
    {
      "cell_type": "markdown",
      "source": [
        "# Generating a List of Squares Using List Comprehension and Functions"
      ],
      "metadata": {
        "id": "tgnT1cZHLylv"
      }
    },
    {
      "cell_type": "code",
      "source": [
        "def generate_squares(n):\n",
        "\n",
        "    return [x ** 2 for x in range(1, n + 1)]\n",
        "\n",
        "# Example usage\n",
        "n = 10\n",
        "squares_list = generate_squares(n)\n",
        "print(f\"The squares of numbers from 1 to {n} are: {squares_list}\")\n"
      ],
      "metadata": {
        "colab": {
          "base_uri": "https://localhost:8080/"
        },
        "id": "BtlM10w6JvPU",
        "outputId": "2ea12711-0354-4fd3-b007-ffef65d470b5"
      },
      "execution_count": 15,
      "outputs": [
        {
          "output_type": "stream",
          "name": "stdout",
          "text": [
            "The squares of numbers from 1 to 10 are: [1, 4, 9, 16, 25, 36, 49, 64, 81, 100]\n"
          ]
        }
      ]
    },
    {
      "cell_type": "markdown",
      "source": [
        "# Converting a List of Strings to Uppercase"
      ],
      "metadata": {
        "id": "elSBvTGkMOES"
      }
    },
    {
      "cell_type": "code",
      "source": [
        "def convert_to_uppercase(strings):\n",
        "    return [string.upper() for string in strings]\n",
        "\n",
        "# Example usage\n",
        "strings_list = [\"apple\", \"banana\", \"cherry\", \"date\"]\n",
        "uppercase_list = convert_to_uppercase(strings_list)\n",
        "print(f\"Original list: {strings_list}\")\n",
        "print(f\"Uppercase list: {uppercase_list}\")"
      ],
      "metadata": {
        "colab": {
          "base_uri": "https://localhost:8080/"
        },
        "id": "Wpk7yVGIMIJC",
        "outputId": "f3688b92-d124-480b-9847-29cd36c5cf96"
      },
      "execution_count": 16,
      "outputs": [
        {
          "output_type": "stream",
          "name": "stdout",
          "text": [
            "Original list: ['apple', 'banana', 'cherry', 'date']\n",
            "Uppercase list: ['APPLE', 'BANANA', 'CHERRY', 'DATE']\n"
          ]
        }
      ]
    },
    {
      "cell_type": "markdown",
      "source": [
        "# Calculating the Total Price Including Tax"
      ],
      "metadata": {
        "id": "xdX5yMOZMjir"
      }
    },
    {
      "cell_type": "code",
      "source": [
        "def calculate_total_price(price, tax_rate):\n",
        "\n",
        "    if price < 0 or tax_rate < 0:\n",
        "        print(\"Price and tax rate must be non-negative.\")\n",
        "    tax = price * (tax_rate / 100)\n",
        "    return price + tax\n",
        "\n",
        "# Example usage\n",
        "price = 100.0\n",
        "tax_rate = 5.0\n",
        "\n",
        "total_price = calculate_total_price(price, tax_rate)\n",
        "print(f\"The total price including a {tax_rate}% tax is: ${total_price:.2f}\")\n"
      ],
      "metadata": {
        "colab": {
          "base_uri": "https://localhost:8080/"
        },
        "id": "iQMD7NdSMfYl",
        "outputId": "99a0cbd8-9f1c-4b80-afb0-9cb0b875a237"
      },
      "execution_count": 18,
      "outputs": [
        {
          "output_type": "stream",
          "name": "stdout",
          "text": [
            "The total price including a 5.0% tax is: $105.00\n"
          ]
        }
      ]
    },
    {
      "cell_type": "markdown",
      "source": [
        "# Finding the Minimum and Maximum Values in a List"
      ],
      "metadata": {
        "id": "c-1IxlpjNQUL"
      }
    },
    {
      "cell_type": "code",
      "source": [
        "def find_min_max(numbers):\n",
        "    if not numbers:\n",
        "        return None, None\n",
        "\n",
        "    min_value = min(numbers)\n",
        "    max_value = max(numbers)\n",
        "    return min_value, max_value\n",
        "\n",
        "# Example usage\n",
        "numbers_list = [5, 12, 7, 3, 19, 1]\n",
        "minimum, maximum = find_min_max(numbers_list)\n",
        "print(f\"The minimum value in the list is: {minimum}\")\n",
        "print(f\"The maximum value in the list is: {maximum}\")"
      ],
      "metadata": {
        "colab": {
          "base_uri": "https://localhost:8080/"
        },
        "id": "k9RB_jAiMy1I",
        "outputId": "f920e526-02b4-4901-99e0-d50364dd451a"
      },
      "execution_count": 20,
      "outputs": [
        {
          "output_type": "stream",
          "name": "stdout",
          "text": [
            "The minimum value in the list is: 1\n",
            "The maximum value in the list is: 19\n"
          ]
        }
      ]
    },
    {
      "cell_type": "markdown",
      "source": [
        "# Checking if a String is a Valid Email Address"
      ],
      "metadata": {
        "id": "p8emLLwDNxh6"
      }
    },
    {
      "cell_type": "code",
      "source": [
        "def is_valid_email(email):\n",
        "\n",
        "    if '@' not in email:\n",
        "        return False\n",
        "    parts = email.split('@')\n",
        "    if len(parts) != 2:\n",
        "        return False\n",
        "\n",
        "    username, domain = parts\n",
        "    if not username or not domain:\n",
        "        return False\n",
        "\n",
        "    if '.' not in domain:\n",
        "        return False\n",
        "\n",
        "    return True\n",
        "\n",
        "# Example usage\n",
        "email = \"salmaalsaid0@gmail.com\"\n",
        "if is_valid_email(email):\n",
        "    print(\"Valid email address\")\n",
        "else:\n",
        "    print(\"Invalid email address\")"
      ],
      "metadata": {
        "id": "IiAuLIGTNpFE",
        "outputId": "0289d99e-2d2a-4a19-e569-ad23d29492ef",
        "colab": {
          "base_uri": "https://localhost:8080/"
        }
      },
      "execution_count": 27,
      "outputs": [
        {
          "output_type": "stream",
          "name": "stdout",
          "text": [
            "Valid email address\n"
          ]
        }
      ]
    },
    {
      "cell_type": "markdown",
      "source": [
        "# Counting the Frequency of Each Character in a String"
      ],
      "metadata": {
        "id": "AB1yKjJZPPw7"
      }
    },
    {
      "cell_type": "code",
      "source": [
        "def count_character_frequency(string):\n",
        "    frequency = {}\n",
        "    for char in string:\n",
        "        frequency[char] = frequency.get(char, 0) + 1\n",
        "    return frequency\n",
        "\n",
        "# Example usage\n",
        "input_string = \"hello world\"\n",
        "character_frequency = count_character_frequency(input_string)\n",
        "print(\"Character frequency:\")\n",
        "for char, freq in character_frequency.items():\n",
        "    print(f\"'{char}': {freq}\")\n"
      ],
      "metadata": {
        "id": "zz0g1x3IPmg4",
        "outputId": "69c9a2ff-36ea-46a0-9740-a1aae4ceaab2",
        "colab": {
          "base_uri": "https://localhost:8080/"
        }
      },
      "execution_count": 25,
      "outputs": [
        {
          "output_type": "stream",
          "name": "stdout",
          "text": [
            "Character frequency:\n",
            "'h': 1\n",
            "'e': 1\n",
            "'l': 3\n",
            "'o': 2\n",
            "' ': 1\n",
            "'w': 1\n",
            "'r': 1\n",
            "'d': 1\n"
          ]
        }
      ]
    }
  ]
}