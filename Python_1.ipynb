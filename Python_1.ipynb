{
  "nbformat": 4,
  "nbformat_minor": 0,
  "metadata": {
    "colab": {
      "provenance": []
    },
    "kernelspec": {
      "name": "python3",
      "display_name": "Python 3"
    },
    "language_info": {
      "name": "python"
    }
  },
  "cells": [
    {
      "cell_type": "markdown",
      "source": [
        "## 1. Write a Python program to find those numbers which are divisible by 7 and multiples of 5, between 1500 and 2700 (both included)."
      ],
      "metadata": {
        "id": "WE9vpELvTcjB"
      }
    },
    {
      "cell_type": "code",
      "source": [
        "result = []\n",
        "\n",
        "for number in range(1500, 2701):\n",
        "    # Check if the number is divisible by 7 and a multiple of 5\n",
        "    if number % 7 == 0 and number % 5 == 0:\n",
        "        result.append(number)\n",
        "\n",
        "print(\"Numbers divisible by 7 and multiples of 5 between 1500 and 2700 are:\")\n",
        "print(result)\n"
      ],
      "metadata": {
        "colab": {
          "base_uri": "https://localhost:8080/"
        },
        "id": "QdHyirdmTeyW",
        "outputId": "01305d2a-6cf1-47e1-f4ea-bc63641a6f14"
      },
      "execution_count": 1,
      "outputs": [
        {
          "output_type": "stream",
          "name": "stdout",
          "text": [
            "Numbers divisible by 7 and multiples of 5 between 1500 and 2700 are:\n",
            "[1505, 1540, 1575, 1610, 1645, 1680, 1715, 1750, 1785, 1820, 1855, 1890, 1925, 1960, 1995, 2030, 2065, 2100, 2135, 2170, 2205, 2240, 2275, 2310, 2345, 2380, 2415, 2450, 2485, 2520, 2555, 2590, 2625, 2660, 2695]\n"
          ]
        }
      ]
    },
    {
      "cell_type": "markdown",
      "source": [
        "## 2. Write a Python program to guess a number between 1 and 9.\n",
        "Note : User is prompted to enter a guess. If the user guesses wrong then the prompt appears again until the guess is correct, on successful guess, user will get a \"Well guessed!\" message, and the program will exit."
      ],
      "metadata": {
        "id": "f-r5sDhxUFpR"
      }
    },
    {
      "cell_type": "code",
      "source": [
        "import random\n",
        "target_number = random.randint(1, 9)\n",
        "\n",
        "while True:\n",
        "    guess = int(input(\"Guess a number between 1 and 9: \"))\n",
        "\n",
        "    # Check if the guess is correct\n",
        "    if guess == target_number:\n",
        "        print(\"Well guessed!\")\n",
        "        break\n",
        "    else:\n",
        "        print(\"Try again!\")\n"
      ],
      "metadata": {
        "colab": {
          "base_uri": "https://localhost:8080/"
        },
        "id": "PZ9LXO2OUSvq",
        "outputId": "bb1db836-ea59-423e-b2f0-1b2831502b71"
      },
      "execution_count": 2,
      "outputs": [
        {
          "output_type": "stream",
          "name": "stdout",
          "text": [
            "Guess a number between 1 and 9: 5\n",
            "Try again!\n",
            "Guess a number between 1 and 9: 2\n",
            "Try again!\n",
            "Guess a number between 1 and 9: 1\n",
            "Try again!\n",
            "Guess a number between 1 and 9: 9\n",
            "Try again!\n",
            "Guess a number between 1 and 9: 3\n",
            "Try again!\n",
            "Guess a number between 1 and 9: 4\n",
            "Try again!\n",
            "Guess a number between 1 and 9: 6\n",
            "Well guessed!\n"
          ]
        }
      ]
    },
    {
      "cell_type": "markdown",
      "source": [
        "## 3. Write a Python program that prints all the numbers from 0 to 6 except 3 and 6.\n",
        "Note : Use 'continue' statement.\n",
        "Expected Output : 0 1 2 4 5"
      ],
      "metadata": {
        "id": "NzDlQy-RU3NV"
      }
    },
    {
      "cell_type": "code",
      "source": [
        "for i in range(7):\n",
        "    if i == 3 or i == 6:\n",
        "        continue\n",
        "    print(i, end=' ')"
      ],
      "metadata": {
        "colab": {
          "base_uri": "https://localhost:8080/"
        },
        "id": "kvA7nOOrVBe3",
        "outputId": "5e6df3e4-ca05-4ccf-da02-b08976e67c93"
      },
      "execution_count": 3,
      "outputs": [
        {
          "output_type": "stream",
          "name": "stdout",
          "text": [
            "0 1 2 4 5 "
          ]
        }
      ]
    },
    {
      "cell_type": "markdown",
      "source": [
        "## 4. Write a Python program to construct the following pattern, using a nested for loop.\n"
      ],
      "metadata": {
        "id": "DhmXOv6sVS6n"
      }
    },
    {
      "cell_type": "code",
      "source": [
        "# Number of rows for the first half of the pattern\n",
        "rows = 5\n",
        "\n",
        "# Print the first half of the pattern\n",
        "for i in range(1, rows + 1):\n",
        "    print(\"* \" * i)\n",
        "\n",
        "# Print the second half of the pattern\n",
        "for i in range(rows - 1, 0, -1):\n",
        "    print(\"* \" * i)\n"
      ],
      "metadata": {
        "colab": {
          "base_uri": "https://localhost:8080/"
        },
        "id": "OjJ0THo9Vcta",
        "outputId": "ad645ebb-a6fa-4c54-ced2-2deada9fd07c"
      },
      "execution_count": 4,
      "outputs": [
        {
          "output_type": "stream",
          "name": "stdout",
          "text": [
            "* \n",
            "* * \n",
            "* * * \n",
            "* * * * \n",
            "* * * * * \n",
            "* * * * \n",
            "* * * \n",
            "* * \n",
            "* \n"
          ]
        }
      ]
    },
    {
      "cell_type": "code",
      "source": [
        "# Number of rows for the first half of the pattern\n",
        "rows = 6\n",
        "\n",
        "# Print the first half of the pattern\n",
        "for i in range(1, rows + 1):\n",
        "    print(\"* \" * i)\n",
        "\n",
        "# Print the second half of the pattern\n",
        "for i in range(rows - 1, 0, -1):\n",
        "    print(\"* \" * i)\n"
      ],
      "metadata": {
        "colab": {
          "base_uri": "https://localhost:8080/"
        },
        "id": "hOqr9VW6WIgX",
        "outputId": "9bfebce1-3807-4486-ee3d-866fc847babd"
      },
      "execution_count": 5,
      "outputs": [
        {
          "output_type": "stream",
          "name": "stdout",
          "text": [
            "* \n",
            "* * \n",
            "* * * \n",
            "* * * * \n",
            "* * * * * \n",
            "* * * * * * \n",
            "* * * * * \n",
            "* * * * \n",
            "* * * \n",
            "* * \n",
            "* \n"
          ]
        }
      ]
    },
    {
      "cell_type": "code",
      "source": [
        "# Number of rows for the top half of the diamond\n",
        "rows = 8\n",
        "\n",
        "# Print the top half of the diamond\n",
        "for i in range(1, rows + 1):\n",
        "    # Print leading spaces\n",
        "    print(\" \" * (rows - i) + \"* \" * i)\n",
        "\n",
        "# Print the bottom half of the diamond\n",
        "for i in range(rows - 1, 0, -1):\n",
        "    # Print leading spaces\n",
        "    print(\" \" * (rows - i) + \"* \" * i)\n"
      ],
      "metadata": {
        "colab": {
          "base_uri": "https://localhost:8080/"
        },
        "id": "-2qxB_jNWYv7",
        "outputId": "2908e419-f86f-47d6-d2f9-d3b99d82ed53"
      },
      "execution_count": 7,
      "outputs": [
        {
          "output_type": "stream",
          "name": "stdout",
          "text": [
            "       * \n",
            "      * * \n",
            "     * * * \n",
            "    * * * * \n",
            "   * * * * * \n",
            "  * * * * * * \n",
            " * * * * * * * \n",
            "* * * * * * * * \n",
            " * * * * * * * \n",
            "  * * * * * * \n",
            "   * * * * * \n",
            "    * * * * \n",
            "     * * * \n",
            "      * * \n",
            "       * \n"
          ]
        }
      ]
    },
    {
      "cell_type": "markdown",
      "source": [
        "## 5. Write a Python program that accepts a word from the user and reverses it."
      ],
      "metadata": {
        "id": "yjqRamWEWynP"
      }
    },
    {
      "cell_type": "code",
      "source": [
        "word = input(\"Enter a word: \")\n",
        "reversed_word = word[::-1]\n",
        "print(\"Reversed word:\", reversed_word)"
      ],
      "metadata": {
        "colab": {
          "base_uri": "https://localhost:8080/"
        },
        "id": "gvka-G7kW3IA",
        "outputId": "c8e2be9f-06af-493e-cc1a-d237f827dab6"
      },
      "execution_count": 8,
      "outputs": [
        {
          "output_type": "stream",
          "name": "stdout",
          "text": [
            "Enter a word: salma\n",
            "Reversed word: amlas\n"
          ]
        }
      ]
    },
    {
      "cell_type": "markdown",
      "source": [
        "## 6. Write a Python program to count the number of even and odd numbers in a series of numbers\n",
        "Sample numbers : numbers = (1, 2, 3, 4, 5, 6, 7, 8, 9)\n",
        "\n",
        "Expected Output :\n",
        "\n",
        "Number of even numbers : 4\n",
        "\n",
        "Number of odd numbers : 5"
      ],
      "metadata": {
        "id": "ouv2wfSyXGCp"
      }
    },
    {
      "cell_type": "code",
      "source": [
        "numbers = (1, 2, 3, 4, 5, 6, 7, 8, 9)\n",
        "even_count = 0\n",
        "odd_count = 0\n",
        "\n",
        "for num in numbers:\n",
        "    if num % 2 == 0:\n",
        "        even_count += 1\n",
        "    else:\n",
        "        odd_count += 1\n",
        "\n",
        "print(\"Number of even numbers:\", even_count)\n",
        "print(\"Number of odd numbers:\", odd_count)"
      ],
      "metadata": {
        "colab": {
          "base_uri": "https://localhost:8080/"
        },
        "id": "Qcs__U6DXPgq",
        "outputId": "9d1ab807-7bf8-4bf3-984b-50f40acd620e"
      },
      "execution_count": 9,
      "outputs": [
        {
          "output_type": "stream",
          "name": "stdout",
          "text": [
            "Number of even numbers: 4\n",
            "Number of odd numbers: 5\n"
          ]
        }
      ]
    },
    {
      "cell_type": "markdown",
      "source": [
        "## 7. Write a Python program to print the the first alphabet pattern 'A-Z' in your name ."
      ],
      "metadata": {
        "id": "wzMAqsVsXZqg"
      }
    },
    {
      "cell_type": "code",
      "source": [
        "pattern_S = [\n",
        "    \" ***** \",\n",
        "    \"*      \",\n",
        "    \" ***** \",\n",
        "    \"      *\",\n",
        "    \" ***** \"\n",
        "]\n",
        "\n",
        "# Print the pattern for \"S\"\n",
        "for line in pattern_S:\n",
        "    print(line)\n"
      ],
      "metadata": {
        "colab": {
          "base_uri": "https://localhost:8080/"
        },
        "id": "PhlDiYFCX9dn",
        "outputId": "42a21558-2c3e-4634-8135-355fa1197793"
      },
      "execution_count": 12,
      "outputs": [
        {
          "output_type": "stream",
          "name": "stdout",
          "text": [
            " ***** \n",
            "*      \n",
            " ***** \n",
            "      *\n",
            " ***** \n"
          ]
        }
      ]
    },
    {
      "cell_type": "markdown",
      "source": [
        "## 8.  Write a Python program to construct the following pattern, using a nested loop number.\n",
        "Expected Output:\n",
        "``\n",
        "1\n",
        "22\n",
        "333\n",
        "4444\n",
        "55555\n",
        "666666\n",
        "7777777\n",
        "88888888\n",
        "999999999\n",
        "``\n"
      ],
      "metadata": {
        "id": "l_-CytTPYKDX"
      }
    },
    {
      "cell_type": "code",
      "source": [
        "# Number of rows for the pattern\n",
        "rows = 9\n",
        "\n",
        "# Print the pattern\n",
        "for i in range(1, rows + 1):\n",
        "    print(str(i) * i)\n"
      ],
      "metadata": {
        "colab": {
          "base_uri": "https://localhost:8080/"
        },
        "id": "NyYAPWk-YUQ_",
        "outputId": "bd943152-6f59-409f-9658-d794fc8f79fe"
      },
      "execution_count": 13,
      "outputs": [
        {
          "output_type": "stream",
          "name": "stdout",
          "text": [
            "1\n",
            "22\n",
            "333\n",
            "4444\n",
            "55555\n",
            "666666\n",
            "7777777\n",
            "88888888\n",
            "999999999\n"
          ]
        }
      ]
    },
    {
      "cell_type": "markdown",
      "source": [
        "## 9. Write a Python program to create the multiplication table (from 1 to 10) of a number."
      ],
      "metadata": {
        "id": "4pTqVxBLY3fM"
      }
    },
    {
      "cell_type": "code",
      "source": [
        "number = int(input(\"Input a number: \"))\n",
        "\n",
        "# Use a nested loop to print the multiplication table\n",
        "for i in range(1, 11):\n",
        "    print(f\"{number} x {i} = {number * i}\")"
      ],
      "metadata": {
        "colab": {
          "base_uri": "https://localhost:8080/"
        },
        "id": "VCXSP62xY-Yn",
        "outputId": "8cc91775-f801-4bf8-f8c0-34e1913d8b89"
      },
      "execution_count": 15,
      "outputs": [
        {
          "output_type": "stream",
          "name": "stdout",
          "text": [
            "Input a number: 5\n",
            "5 x 1 = 5\n",
            "5 x 2 = 10\n",
            "5 x 3 = 15\n",
            "5 x 4 = 20\n",
            "5 x 5 = 25\n",
            "5 x 6 = 30\n",
            "5 x 7 = 35\n",
            "5 x 8 = 40\n",
            "5 x 9 = 45\n",
            "5 x 10 = 50\n"
          ]
        }
      ]
    },
    {
      "cell_type": "markdown",
      "source": [
        "## 10. Write a Python program to calculate the sum and average of n integer numbers (input from the user). Input 0 to finish.\n"
      ],
      "metadata": {
        "id": "6QpGvMiUZXTT"
      }
    },
    {
      "cell_type": "code",
      "source": [
        "total_sum = 0\n",
        "count = 0\n",
        "\n",
        "while True:\n",
        "    number = int(input(\"Enter an integer number (enter 0 to finish): \"))\n",
        "    if number == 0:\n",
        "        break\n",
        "    total_sum += number\n",
        "    count += 1\n",
        "\n",
        "# Calculate average if count is not zero\n",
        "if count > 0:\n",
        "    average = total_sum / count\n",
        "else:\n",
        "    average = 0\n",
        "\n",
        "print(\"The sum of the numbers is:\", total_sum)\n",
        "print(\"The average of the numbers is:\", average)\n"
      ],
      "metadata": {
        "colab": {
          "base_uri": "https://localhost:8080/"
        },
        "id": "HJJ9Xqgbaox-",
        "outputId": "cba52aef-c27d-47aa-8728-2ca14d6b9d9f"
      },
      "execution_count": 26,
      "outputs": [
        {
          "output_type": "stream",
          "name": "stdout",
          "text": [
            "Enter an integer number (enter 0 to finish): 1\n",
            "Enter an integer number (enter 0 to finish): 2\n",
            "Enter an integer number (enter 0 to finish): 5\n",
            "Enter an integer number (enter 0 to finish): 6\n",
            "Enter an integer number (enter 0 to finish): 0\n",
            "The sum of the numbers is: 14\n",
            "The average of the numbers is: 3.5\n"
          ]
        }
      ]
    },
    {
      "cell_type": "markdown",
      "source": [
        "# 11-Python Program to Print the Fibonacci sequence"
      ],
      "metadata": {
        "id": "KLOvnGyJbYj6"
      }
    },
    {
      "cell_type": "code",
      "source": [
        "n = int(input(\"Enter the number of terms: \"))\n",
        "\n",
        "# Initializing the first two terms of the Fibonacci sequence\n",
        "a, b = 0, 1\n",
        "\n",
        "for _ in range(n):\n",
        "    print(a, end=\" \")\n",
        "    a, b = b, a + b\n"
      ],
      "metadata": {
        "colab": {
          "base_uri": "https://localhost:8080/"
        },
        "id": "iY5kM5MDbeAZ",
        "outputId": "9c859125-2d25-411d-fa8c-211a0e651de1"
      },
      "execution_count": 28,
      "outputs": [
        {
          "output_type": "stream",
          "name": "stdout",
          "text": [
            "Enter the number of terms: 10\n",
            "0 1 1 2 3 5 8 13 21 34 "
          ]
        }
      ]
    },
    {
      "cell_type": "markdown",
      "source": [
        "# Finding maximum value in a list"
      ],
      "metadata": {
        "id": "Agkgicb_9UGU"
      }
    },
    {
      "cell_type": "code",
      "source": [
        "numbers = [10, 20, 5, 30, 25]\n",
        "\n",
        "max_value = numbers[0]\n",
        "\n",
        "for num in numbers:\n",
        "    if num > max_value:\n",
        "        max_value = num\n",
        "\n",
        "print(\"The maximum value in the list is:\", max_value)\n"
      ],
      "metadata": {
        "colab": {
          "base_uri": "https://localhost:8080/"
        },
        "id": "YI4A82OZ7Skm",
        "outputId": "324100d2-b3f8-4521-e742-275b79d8b617"
      },
      "execution_count": 29,
      "outputs": [
        {
          "output_type": "stream",
          "name": "stdout",
          "text": [
            "The maximum value in the list is: 30\n"
          ]
        }
      ]
    },
    {
      "cell_type": "markdown",
      "source": [
        "# counting Vowels in a string"
      ],
      "metadata": {
        "id": "p_v7gqcb__KO"
      }
    },
    {
      "cell_type": "code",
      "source": [
        "text = \"Hello, how many vowels are in this sentence?\"\n",
        "vowels = \"aeiouAEIOU\"\n",
        "count = 0\n",
        "\n",
        "for char in text:\n",
        "    if char in vowels:\n",
        "        count += 1\n",
        "\n",
        "print(\"Number of vowels:\", count)\n"
      ],
      "metadata": {
        "colab": {
          "base_uri": "https://localhost:8080/"
        },
        "id": "QdyGcD3a9Efa",
        "outputId": "c1ad59e4-b3e3-42fa-f788-a008413dfa1e"
      },
      "execution_count": 30,
      "outputs": [
        {
          "output_type": "stream",
          "name": "stdout",
          "text": [
            "Number of vowels: 13\n"
          ]
        }
      ]
    },
    {
      "cell_type": "markdown",
      "source": [
        "# finding prime Numbers within a range"
      ],
      "metadata": {
        "id": "mq3W8uIQCgxX"
      }
    },
    {
      "cell_type": "code",
      "source": [
        "start = 10\n",
        "end = 50\n",
        "\n",
        "for num in range(start, end + 1):\n",
        "    if num > 1:\n",
        "        for i in range(2, num):\n",
        "            if (num % i) == 0:\n",
        "                break\n",
        "        else:\n",
        "            print(num,\"is a prime number\")\n"
      ],
      "metadata": {
        "colab": {
          "base_uri": "https://localhost:8080/"
        },
        "id": "S0RgC7f8_x6t",
        "outputId": "934ad6a7-bf70-40de-e251-7b7008052a7d"
      },
      "execution_count": 32,
      "outputs": [
        {
          "output_type": "stream",
          "name": "stdout",
          "text": [
            "11 is a prime number\n",
            "13 is a prime number\n",
            "17 is a prime number\n",
            "19 is a prime number\n",
            "23 is a prime number\n",
            "29 is a prime number\n",
            "31 is a prime number\n",
            "37 is a prime number\n",
            "41 is a prime number\n",
            "43 is a prime number\n",
            "47 is a prime number\n"
          ]
        }
      ]
    },
    {
      "cell_type": "markdown",
      "source": [
        "# A Program that Simulating a Basic ATM Withdrawal"
      ],
      "metadata": {
        "id": "e1HlhvmouCbX"
      }
    },
    {
      "cell_type": "markdown",
      "source": [],
      "metadata": {
        "id": "rj63k0Ffcw1F"
      }
    },
    {
      "cell_type": "code",
      "source": [
        "class ATM:\n",
        "    def __init__(self, balance):\n",
        "        self.balance = balance\n",
        "\n",
        "# Initial balance is $1000\n",
        "atm = ATM(1000)\n",
        "\n",
        "while True:\n",
        "    print(\"\\nATM Menu:\")\n",
        "    print(\"1. Check Balance\")\n",
        "    print(\"2. Withdraw\")\n",
        "    print(\"3. Deposit\")\n",
        "    print(\"4. Exit\")\n",
        "\n",
        "    choice = input(\"Please choose an option (1-4): \")\n",
        "\n",
        "    if choice == '1':\n",
        "        print(f\"Your current balance is: ${atm.balance}\")\n",
        "\n",
        "    elif choice == '2':\n",
        "        amount = float(input(\"Enter amount to withdraw: $\"))\n",
        "        if amount <= atm.balance:\n",
        "            atm.balance -= amount\n",
        "            print(f\"Withdrawal successful! You have withdrawn ${amount}.\")\n",
        "            print(f\"Remaining balance: ${atm.balance}\")\n",
        "        else:\n",
        "            print(\"Insufficient funds! Please enter a valid amount.\")\n",
        "\n",
        "    elif choice == '3':\n",
        "        amount = float(input(\"Enter amount to deposit: $\"))\n",
        "        atm.balance += amount\n",
        "        print(f\"Deposit successful! You have deposited ${amount}.\")\n",
        "        print(f\"New balance: ${atm.balance}\")\n",
        "\n",
        "    elif choice == '4':\n",
        "        print(\"Thank you for using our ATM. Goodbye!\")\n",
        "        break\n",
        "\n",
        "    else:\n",
        "        print(\"Invalid choice! Please select an option between 1 and 4.\")\n"
      ],
      "metadata": {
        "colab": {
          "base_uri": "https://localhost:8080/"
        },
        "id": "8ldc7arKuJA3",
        "outputId": "b4e47c00-15f1-41b4-f4c6-0b13322ca561"
      },
      "execution_count": 34,
      "outputs": [
        {
          "output_type": "stream",
          "name": "stdout",
          "text": [
            "\n",
            "ATM Menu:\n",
            "1. Check Balance\n",
            "2. Withdraw\n",
            "3. Deposit\n",
            "4. Exit\n",
            "Please choose an option (1-4): 3\n",
            "Enter amount to deposit: $500\n",
            "Deposit successful! You have deposited $500.0.\n",
            "New balance: $1500.0\n",
            "\n",
            "ATM Menu:\n",
            "1. Check Balance\n",
            "2. Withdraw\n",
            "3. Deposit\n",
            "4. Exit\n",
            "Please choose an option (1-4): 2\n",
            "Enter amount to withdraw: $1000\n",
            "Withdrawal successful! You have withdrawn $1000.0.\n",
            "Remaining balance: $500.0\n",
            "\n",
            "ATM Menu:\n",
            "1. Check Balance\n",
            "2. Withdraw\n",
            "3. Deposit\n",
            "4. Exit\n",
            "Please choose an option (1-4): 1\n",
            "Your current balance is: $500.0\n",
            "\n",
            "ATM Menu:\n",
            "1. Check Balance\n",
            "2. Withdraw\n",
            "3. Deposit\n",
            "4. Exit\n",
            "Please choose an option (1-4): 4\n",
            "Thank you for using our ATM. Goodbye!\n"
          ]
        }
      ]
    },
    {
      "cell_type": "markdown",
      "source": [
        "# Finding Common Elements in Two Lists"
      ],
      "metadata": {
        "id": "x7ZYRwWOvUNM"
      }
    },
    {
      "cell_type": "code",
      "source": [
        "list1 = [1, 2, 3, 4, 5]\n",
        "list2 = [3, 4, 5, 6, 7]\n",
        "\n",
        "common_elements = []\n",
        "\n",
        "for element in list1:\n",
        "    if element in list2:\n",
        "        common_elements.append(element)\n",
        "\n",
        "print(\"Common elements:\", common_elements)"
      ],
      "metadata": {
        "colab": {
          "base_uri": "https://localhost:8080/"
        },
        "id": "WMvyA5U7uks2",
        "outputId": "c504fd4f-542f-4d85-a6e3-09157016cfc6"
      },
      "execution_count": 35,
      "outputs": [
        {
          "output_type": "stream",
          "name": "stdout",
          "text": [
            "Common elements: [3, 4, 5]\n"
          ]
        }
      ]
    },
    {
      "cell_type": "markdown",
      "source": [
        "# Calculating Factorial of a Number"
      ],
      "metadata": {
        "id": "4qGyJqrhvkme"
      }
    },
    {
      "cell_type": "code",
      "source": [
        "number = int(input(\"Enter a number: \"))\n",
        "\n",
        "factorial = 1\n",
        "\n",
        "for i in range(1, number + 1):\n",
        "    factorial *= i\n",
        "\n",
        "print(f\"The factorial of {number} is: {factorial}\")"
      ],
      "metadata": {
        "colab": {
          "base_uri": "https://localhost:8080/"
        },
        "id": "SDYZI4OuvjxP",
        "outputId": "b0d77904-f83a-456b-8f9d-2dca59ffb350"
      },
      "execution_count": 37,
      "outputs": [
        {
          "output_type": "stream",
          "name": "stdout",
          "text": [
            "Enter a number: 5\n",
            "The factorial of 5 is: 120\n"
          ]
        }
      ]
    },
    {
      "cell_type": "markdown",
      "source": [
        "# Validating User Input with While Loop"
      ],
      "metadata": {
        "id": "Hx_rHo5Ovz1k"
      }
    },
    {
      "cell_type": "code",
      "source": [
        "while True:\n",
        "    user_input = input(\"Enter a positive integer: \")\n",
        "\n",
        "    try:\n",
        "        number = int(user_input)\n",
        "        if number > 0:\n",
        "            print(f\"You entered the valid number: {number}\")\n",
        "            break  # Exit the loop if input is valid\n",
        "        else:\n",
        "            print(\"The number must be greater than zero.\")\n",
        "    except ValueError:\n",
        "        print(\"Invalid input! Please enter a valid positive integer.\")\n"
      ],
      "metadata": {
        "colab": {
          "base_uri": "https://localhost:8080/"
        },
        "id": "jyZRX8I1vvbj",
        "outputId": "47c80923-1339-4ee3-9ecf-ce7e86d82ae0"
      },
      "execution_count": 39,
      "outputs": [
        {
          "output_type": "stream",
          "name": "stdout",
          "text": [
            "Enter a positive integer: -5\n",
            "The number must be greater than zero.\n",
            "Enter a positive integer: s\n",
            "Invalid input! Please enter a valid positive integer.\n",
            "Enter a positive integer: 3\n",
            "You entered the valid number: 3\n"
          ]
        }
      ]
    },
    {
      "cell_type": "markdown",
      "source": [
        "# Finding the Sum of Digits of a Number"
      ],
      "metadata": {
        "id": "IaLumdV5xH0S"
      }
    },
    {
      "cell_type": "code",
      "source": [
        "number = int(input(\"Enter a number: \"))\n",
        "\n",
        "sum_of_digits = 0\n",
        "\n",
        "while number > 0:\n",
        "    digit = number % 10\n",
        "    sum_of_digits += digit\n",
        "    number //= 10\n",
        "\n",
        "print(\"The sum of digits is:\", sum_of_digits)"
      ],
      "metadata": {
        "colab": {
          "base_uri": "https://localhost:8080/"
        },
        "id": "V2QTOI-lxI1B",
        "outputId": "6609316a-c72a-45d4-caf3-e8af3f1cab9b"
      },
      "execution_count": 43,
      "outputs": [
        {
          "output_type": "stream",
          "name": "stdout",
          "text": [
            "Enter a number: 5622\n",
            "The sum of digits is: 15\n"
          ]
        }
      ]
    },
    {
      "cell_type": "markdown",
      "source": [
        "# Checking for Palindrome Strings"
      ],
      "metadata": {
        "id": "Fwuke0T_xloH"
      }
    },
    {
      "cell_type": "code",
      "source": [
        "user_input = input(\"Enter a string: \")\n",
        "\n",
        "if user_input == user_input[::-1]:\n",
        "    print(\"The string is a palindrome.\")\n",
        "else:\n",
        "    print(\"The string is not a palindrome.\")\n"
      ],
      "metadata": {
        "colab": {
          "base_uri": "https://localhost:8080/"
        },
        "id": "r1jmG8qQw4J6",
        "outputId": "3dee41dd-fd8f-4e59-d7b8-f868118efdf2"
      },
      "execution_count": 46,
      "outputs": [
        {
          "output_type": "stream",
          "name": "stdout",
          "text": [
            "Enter a string: racecar\n",
            "The string is a palindrome.\n"
          ]
        }
      ]
    },
    {
      "cell_type": "markdown",
      "source": [
        "# Creating a Dictionary from Two Lists"
      ],
      "metadata": {
        "id": "DnXHVjUByeb4"
      }
    },
    {
      "cell_type": "code",
      "source": [
        "keys = ['Name', 'Age', 'City']\n",
        "values = [\"Salma\", 22 , \"Cairo\"]\n",
        "\n",
        "my_dict = dict(zip(keys, values))\n",
        "\n",
        "print(my_dict)"
      ],
      "metadata": {
        "colab": {
          "base_uri": "https://localhost:8080/"
        },
        "id": "HqmRXV4kxlEH",
        "outputId": "f8ec7971-a95e-4c73-e29a-dc8a976ac17d"
      },
      "execution_count": 50,
      "outputs": [
        {
          "output_type": "stream",
          "name": "stdout",
          "text": [
            "{'Name': 'Salma', 'Age': 22, 'City': 'Cairo'}\n"
          ]
        }
      ]
    },
    {
      "cell_type": "markdown",
      "source": [
        "# Simulating a Simple Password Check"
      ],
      "metadata": {
        "id": "2QsdGdfEzJXV"
      }
    },
    {
      "cell_type": "code",
      "source": [
        "password = \"mypassword\"\n",
        "\n",
        "while True:\n",
        "    user_input = input(\"Enter the password: \")\n",
        "\n",
        "    if user_input == password:\n",
        "        print(\"Access granted!\")\n",
        "        break  # Exit the loop if password is correct\n",
        "\n",
        "    else:\n",
        "        print(\"Access denied! Incorrect password.\")"
      ],
      "metadata": {
        "colab": {
          "base_uri": "https://localhost:8080/"
        },
        "id": "4adWCK_SzMRN",
        "outputId": "486e1f1e-0ea3-4168-9349-06197147289f"
      },
      "execution_count": 51,
      "outputs": [
        {
          "output_type": "stream",
          "name": "stdout",
          "text": [
            "Enter the password: 1234\n",
            "Access denied! Incorrect password.\n",
            "Enter the password: mypassword\n",
            "Access granted!\n"
          ]
        }
      ]
    },
    {
      "cell_type": "markdown",
      "source": [
        "# Generating a Multiplication Table for a Given Number"
      ],
      "metadata": {
        "id": "WRRzguA6znJq"
      }
    },
    {
      "cell_type": "code",
      "source": [
        "number = int(input(\"Enter a number: \"))\n",
        "\n",
        "for i in range(1, 11):\n",
        "    print(f\"{number} x {i} = {number * i}\")"
      ],
      "metadata": {
        "colab": {
          "base_uri": "https://localhost:8080/"
        },
        "id": "nSHLoyL7zmar",
        "outputId": "9a350a7c-20b9-463f-b995-c78211a15b36"
      },
      "execution_count": 53,
      "outputs": [
        {
          "output_type": "stream",
          "name": "stdout",
          "text": [
            "Enter a number: 6\n",
            "6 x 1 = 6\n",
            "6 x 2 = 12\n",
            "6 x 3 = 18\n",
            "6 x 4 = 24\n",
            "6 x 5 = 30\n",
            "6 x 6 = 36\n",
            "6 x 7 = 42\n",
            "6 x 8 = 48\n",
            "6 x 9 = 54\n",
            "6 x 10 = 60\n"
          ]
        }
      ]
    }
  ]
}